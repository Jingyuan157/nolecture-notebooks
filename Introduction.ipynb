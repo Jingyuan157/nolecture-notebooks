{
  "cells": [
    {
      "cell_type": "markdown",
      "metadata": {},
      "source": [
        "Introduction of Python Through Jupyter!\n",
        "---"
      ]
    },
    {
      "cell_type": "markdown",
      "metadata": {},
      "source": [
        "Who Am I?\n",
        "---\n",
        "\n",
        "- Barry Moore II, PhD (bmooreii@pitt.edu)\n",
        "    - PhD from University at Buffalo in Theoretical Chemistry\n",
        "    - Twitter (random programming and personal stuff): @chiroptical\n",
        "    - GitHub (lots of Python): @chiroptical\n",
        "    - Website (random blog posts): https://barrymoo.dev\n",
        "    - Streaming Haskell and Elm: https://twitch.tv/chiroptical\n",
        "- Center for Research Computing\n",
        "    - Technical Director\n",
        "    - Advanced Research Computing Team at Pitt\n",
        "    - 8200 compute cores\n",
        "    - 100 GPUs\n",
        "\n",
        "### Set Expectations\n",
        "\n",
        "- Started 8 years ago to solve problems in Theoretical Chemistry\n",
        "    - The point: I was a scientist similar to you\n",
        "    - It takes a long time to be okay at programming, even longer to be good\n",
        "    - Learned from doing it very wrong in a low level programming language\n",
        "- Python is a great language to start with\n",
        "    - It isn't terribly hard to be productive\n",
        "    - Doesn't mean it is easy!\n",
        "- Languages are tools!\n",
        "    - You learned how to use spreadsheets, you can do this!\n",
        "    - There are a lot of languages to choose from\n",
        "        - I always suggest using the one which people around you use!\n",
        "- You won't learn __any__ language in 3 hours!\n",
        "    - This workshop is meant to get you started."
      ]
    },
    {
      "cell_type": "markdown",
      "metadata": {},
      "source": [
        "Initial Steps\n",
        "---\n",
        "\n",
        "- In your browser navigate to https://hub.crc.pitt.edu\n",
        "- Click \"Start My Server\"\n",
        "- Under \"Select a job profile:\" choose \"Host Process\" and click \"Spawn\"\n",
        "- Get this notebook:\n",
        "    - First open up a Terminal via. `File` $\\rightarrow$ `New Launcher` $\\rightarrow$ `Terminal`\n",
        "    - `git clone https://github.com/chiroptical/nolecture-notebooks.git`"
      ]
    },
    {
      "cell_type": "markdown",
      "metadata": {},
      "source": [
        "What did I just connect to?\n",
        "---\n",
        "\n",
        "- __JupyterHub__:\n",
        "    - Multi-user server for Jupyter Notebooks\n",
        "- What is a Jupyter Notebook? (from https://jupyter-notebook.readthedocs.io/en/stable/notebook.html)\n",
        "> The notebook extends the console-based approach to interactive computing in a qualitatively new direction, providing a web-based application suitable for capturing the whole computation process: developing, documenting, and executing code, as well as communicating the results. The Jupyter notebook combines two components:\n",
        ">\n",
        "> __A web application__: a browser-based tool for interactive authoring of documents which combine explanatory text, mathematics, computations and their rich media output.\n",
        ">\n",
        "> __Notebook documents__: a representation of all content visible in the web application, including inputs and outputs of the computations, explanatory text, mathematics, images, and rich media representations of objects.\n",
        "\n",
        "    - Note: Jupyter Notebooks are not just for Python, but we are using them to learn Python\n",
        "        - We have kernels for R and Julia if you want to use them\n",
        "        - Other kernels exist, please ask me if you want to install them"
      ]
    },
    {
      "cell_type": "markdown",
      "metadata": {},
      "source": [
        "What is Python?\n",
        "---\n",
        "\n",
        "- Python is an interpreted programming language. This means that code you write is read by an _interpreter_ to convert your text into pre-compiled elementary functions which can be run by the computer\n",
        "    - This is opposed to compiled languages which are compiled directly to another language which can be run by the computer\n",
        "- There are two flavors of Python\n",
        "    - 2.7 (deprecated 2020)\n",
        "    - __3.7__\n",
        "        - We are using this now!"
      ]
    },
    {
      "cell_type": "markdown",
      "metadata": {},
      "source": [
        "Why Jupyter Notebooks and Python?\n",
        "---\n",
        "\n",
        "- Allows you to integrate code and documentation seamlessly\n",
        "- Allows you to share your Notebooks online (e.g. on github)\n",
        "- Allows you to explore and massage data on the fly\n",
        "    \n",
        "#### Let's Explore the User Interface\n",
        "\n",
        "- Drop down menus\n",
        "- Tool bar\n",
        "- Keystrokes"
      ]
    },
    {
      "cell_type": "markdown",
      "metadata": {},
      "source": [
        "Helper Syntax\n",
        "---\n",
        "\n",
        "In the Notebook, you will encounter some syntax you __must__ understand:\n",
        "\n",
        "1. `<Shift-Enter>`: This is a keystroke.\n",
        "    - Hold `Shift`, press `Enter`.\n",
        "    - Keystrokes will always start with a capital letter!\n",
        "2. `<var1> <operator> <var2>`: This is a pattern, I want you to fill it in!\n",
        "    - patterns will always start with a lowercase letter\n",
        "    - Given the above pattern, using the multiplication operator (`*`) one could multiply the variables `a` and `b` together in the following cell:"
      ]
    },
    {
      "cell_type": "code",
      "execution_count": null,
      "metadata": {},
      "outputs": [],
      "source": [
        "a = 1\n",
        "b = 2\n",
        "# pattern was `<var1> <operator> <var2>`\n",
        "a * b"
      ]
    },
    {
      "cell_type": "markdown",
      "metadata": {},
      "source": [
        "Note the omission of `<` and `>`! It is imperative you understand this."
      ]
    },
    {
      "cell_type": "markdown",
      "metadata": {},
      "source": [
        "Notebook Cells\n",
        "---\n",
        "\n",
        "Basically 2 types:\n",
        "\n",
        "1. Markdown:\n",
        "    - A simple language which converts to HTML\n",
        "    - Jupyter Docs: http://jupyter-notebook.readthedocs.io/en/latest/examples/Notebook/Working%20With%20Markdown%20Cells.html\n",
        "    - Use these to document your work\n",
        "    - Write equations using $\\LaTeX$: $ \\frac{1}{N}\\Sigma_i n_i $, or on it's own line:\n",
        "$$ \\frac{1}{N}\\Sigma_i n_i $$\n",
        "    - Write code: `x = 1`, or highlighted on it's own line:\n",
        "```python\n",
        "x = 1\n",
        "```\n",
        "2. Code:\n",
        "    - Where you write your code."
      ]
    },
    {
      "cell_type": "markdown",
      "metadata": {},
      "source": [
        "### Modes\n",
        "\n",
        "- The blue bar on the left represents the current cell focus\n",
        "- Two modes:\n",
        "    - Edit mode: blinking cursor, for typing documentation and code\n",
        "        - Press `<Esc>` to exit edit mode\n",
        "    - Command mode: no cursor, for commands\n",
        "        - Press `<Enter>` to enter edit mode on cell"
      ]
    },
    {
      "cell_type": "markdown",
      "metadata": {},
      "source": [
        "### How do you work with them:\n",
        "\n",
        "- In edit mode, run the following keystrokes on the next cell:\n",
        "    - `<Shift-Enter>`\n",
        "    - `<Ctrl-Enter>`"
      ]
    },
    {
      "cell_type": "code",
      "execution_count": null,
      "metadata": {},
      "outputs": [],
      "source": [
        "x = 1\n",
        "print(x)"
      ]
    },
    {
      "cell_type": "markdown",
      "metadata": {},
      "source": [
        "- In command mode:\n",
        "    - Move up, or down, cells using `<Up>` (`<Down>`)\n",
        "    - Enter edit mode on focused cell: `<Enter>`\n",
        "- In edit mode:\n",
        "    - Enter command mode with `<Esc>`\n",
        "- Creating cells:\n",
        "    - In command mode:\n",
        "        - Above current cell, press `a`\n",
        "        - Below current cell, press `b`\n",
        "- Converting between types:\n",
        "    - In command mode:\n",
        "        - convert to Markdown cell, press `m`\n",
        "        - convert to code cell, press `y`"
      ]
    },
    {
      "cell_type": "markdown",
      "metadata": {},
      "source": [
        "Active Learning\n",
        "---\n",
        "\n",
        "- Using a variant of Process Oriented Guided Inquiry Learning (POGIL) during this workshop\n",
        "- Every section will introduce a concept followed by some tasks to reinforce the section\n",
        "- Keep this quote in mind:\n",
        "> \"Mistakes are the portals to discovery\" - James Joyce\n",
        "\n",
        "    - __Python generates useful error messages, read them!__\n",
        "- Learn at your own pace\n",
        "- Struggle a little, but don't forget we are here to help!\n",
        "\n",
        "Let's look at an simple example:"
      ]
    },
    {
      "cell_type": "markdown",
      "metadata": {},
      "source": [
        "Addition in Python\n",
        "---\n",
        "\n",
        "The addition operator is `+` and is used to add two values\n",
        "\n",
        "- Syntax: `<value> <operator> <value>`\n",
        "- Example: `1 + 2`\n",
        "\n",
        "### Tasks\n",
        "\n",
        "1. Using the addition operator, add\n",
        "    - 2 and 3\n",
        "    - 4 and 5\n",
        "2. The multiplication operator is `*`, complete 1. with multiplication\n",
        "3. If I wrote `\"hello\" + \"world\"` what do you think would happen? Try it."
      ]
    },
    {
      "cell_type": "code",
      "execution_count": null,
      "metadata": {},
      "outputs": [],
      "source": []
    },
    {
      "cell_type": "code",
      "execution_count": null,
      "metadata": {},
      "outputs": [],
      "source": []
    },
    {
      "cell_type": "code",
      "execution_count": null,
      "metadata": {},
      "outputs": [],
      "source": []
    },
    {
      "cell_type": "code",
      "execution_count": null,
      "metadata": {},
      "outputs": [],
      "source": []
    },
    {
      "cell_type": "markdown",
      "metadata": {},
      "source": [
        "Python Syntax\n",
        "---"
      ]
    },
    {
      "cell_type": "markdown",
      "metadata": {},
      "source": [
        "### Comments\n",
        "\n",
        "- Lines beginning with `#` are completely ignored\n",
        "- Everything after `#` is ignored\n",
        "- Comments help increase the readability of code"
      ]
    },
    {
      "cell_type": "code",
      "execution_count": null,
      "metadata": {},
      "outputs": [],
      "source": [
        "# print(1)\n",
        "print(1) # this is ignored"
      ]
    },
    {
      "cell_type": "markdown",
      "metadata": {},
      "source": [
        "### Jupyter Tips\n",
        "\n",
        "- Comments can be separated into Markdown cells, but don't need to be\n",
        "- In edit mode on code cells:\n",
        "    - Try highlighting some code with your mouse and use `<Ctrl-/>` a few times\n",
        "        - This behavior is called \"toggling comments\""
      ]
    },
    {
      "cell_type": "markdown",
      "metadata": {},
      "source": [
        "### Whitespace\n",
        "\n",
        "In Python, unlike many programming languages, whitespace is important! Run the following cell:"
      ]
    },
    {
      "cell_type": "code",
      "execution_count": null,
      "metadata": {},
      "outputs": [],
      "source": [
        "print(\"hello\")\n",
        " print(\"world\")"
      ]
    },
    {
      "cell_type": "markdown",
      "metadata": {},
      "source": [
        "Oh, we are hit with an `IndentationError`. First, we should discuss the anatomy of an error message in Python\n",
        "\n",
        "### Anatomy of an Error\n",
        "\n",
        "```\n",
        "1.  File \"<ipython-input-1-2f431114b51f>\", line 2\n",
        "2.    print(\"world\")\n",
        "3.    ^\n",
        "4. IndentationError: unexpected indent\n",
        "```\n",
        "\n",
        "- Line 1:\n",
        "    - Summarizes where the error occurred in the cell\n",
        "    - The part in quotes is specific to Jupyter\n",
        "    - `line 2` suggests the error occurred on line 2 (relative to the top of the cell)\n",
        "- Line 2 & 3:\n",
        "    - Summarizes where the error occurred on the line\n",
        "    - The `^` is pointing the user to the `print` statement\n",
        "- Line 4:\n",
        "    - Summarizes what error occurred"
      ]
    },
    {
      "cell_type": "markdown",
      "metadata": {},
      "source": [
        "### Blocks\n",
        "\n",
        "Python is arranged into commonly indented _blocks_. The code above is properly written in one block as:"
      ]
    },
    {
      "cell_type": "code",
      "execution_count": null,
      "metadata": {},
      "outputs": [],
      "source": [
        "print(\"hello\")\n",
        "print(\"world\")"
      ]
    },
    {
      "cell_type": "markdown",
      "metadata": {},
      "source": [
        "Case Sensitivity\n",
        "---\n",
        "\n",
        "Python is case sensitive, i.e. you can __NOT__ do the following"
      ]
    },
    {
      "cell_type": "code",
      "execution_count": null,
      "metadata": {},
      "outputs": [],
      "source": [
        "Z = 1\n",
        "print(z)"
      ]
    },
    {
      "cell_type": "markdown",
      "metadata": {},
      "source": [
        "- You should get a `NameError` because `z` is not defined only `Z`!"
      ]
    }
  ],
  "metadata": {
    "kernelspec": {
      "display_name": "Python 3",
      "language": "python",
      "name": "python3"
    },
    "language_info": {
      "codemirror_mode": {
        "name": "ipython",
        "version": 3
      },
      "file_extension": ".py",
      "mimetype": "text/x-python",
      "name": "python",
      "nbconvert_exporter": "python",
      "pygments_lexer": "ipython3",
      "version": "3.6.6"
    }
  },
  "nbformat": 4,
  "nbformat_minor": 2
}
